{
 "cells": [
  {
   "cell_type": "markdown",
   "id": "b6d6d8c0",
   "metadata": {},
   "source": [
    "#                                             Assignment No.1"
   ]
  },
  {
   "cell_type": "markdown",
   "id": "02edad07",
   "metadata": {},
   "source": [
    "##  Q1. Create one variable containing following type data:"
   ]
  },
  {
   "cell_type": "code",
   "execution_count": 1,
   "id": "1a7d9482",
   "metadata": {},
   "outputs": [],
   "source": [
    "#1) string\n",
    "\n",
    "a = \"atharva\"\n",
    "\n",
    "\n",
    "#2) list\n",
    "\n",
    "b = [\"ami\", \"anuj\", 6, 1.43, True] \n",
    "\n",
    "\n",
    "#3)Float\n",
    "\n",
    "c = 4.15\n",
    "\n",
    "#4) Tuple\n",
    "\n",
    "d = (\"abhishek\", 456, 4.14, False)"
   ]
  },
  {
   "cell_type": "markdown",
   "id": "d887bec5",
   "metadata": {},
   "source": [
    "## Q2. Given are some following variables containing data:"
   ]
  },
  {
   "cell_type": "code",
   "execution_count": 5,
   "id": "cb685170",
   "metadata": {},
   "outputs": [
    {
     "name": "stdout",
     "output_type": "stream",
     "text": [
      "<class 'str'>\n",
      "<class 'str'>\n",
      "<class 'list'>\n",
      "<class 'int'>\n"
     ]
    }
   ],
   "source": [
    "var1 = ''  \n",
    "print(type(var1))\n",
    "\n",
    "var2 = '[ DS , ML , Python]'\n",
    "print(type(var2))\n",
    "\n",
    "var3 = [ 'DS' , 'ML' , 'PYTHON' ]\n",
    "print(type(var3))\n",
    "\n",
    "var4 = 1\n",
    "print(type(var4))\n"
   ]
  },
  {
   "cell_type": "markdown",
   "id": "ac37b2e2",
   "metadata": {},
   "source": [
    "### var1 = string\n",
    "### var2 = string\n",
    "### var3 = list\n",
    "### var4 = integer"
   ]
  },
  {
   "cell_type": "markdown",
   "id": "f4cfd8b6",
   "metadata": {},
   "source": [
    "## Q3. Explain the use of the following operators using an example:"
   ]
  },
  {
   "cell_type": "code",
   "execution_count": 10,
   "id": "db007887",
   "metadata": {},
   "outputs": [
    {
     "name": "stdout",
     "output_type": "stream",
     "text": [
      "5.0\n",
      "1\n",
      "7\n",
      "125\n"
     ]
    }
   ],
   "source": [
    "Division = print(25/5)\n",
    "Modulus = print (36%5)\n",
    "Floor_division = print (53//7)\n",
    "Exponentiation = print (5**3)"
   ]
  },
  {
   "cell_type": "markdown",
   "id": "e3540d19",
   "metadata": {},
   "source": [
    "## Q4. Create a list of length 10 of your choice containing multiple types of data. Using for loop print the element and its data type."
   ]
  },
  {
   "cell_type": "code",
   "execution_count": 13,
   "id": "05cf3839",
   "metadata": {},
   "outputs": [
    {
     "name": "stdout",
     "output_type": "stream",
     "text": [
      "Adipurush <class 'str'>\n",
      "sneha <class 'str'>\n",
      "15 <class 'int'>\n",
      "5.23 <class 'float'>\n",
      "Tina <class 'str'>\n",
      "True <class 'bool'>\n",
      "69 <class 'int'>\n",
      "67.89 <class 'float'>\n",
      "False <class 'bool'>\n",
      "Jayesh <class 'str'>\n"
     ]
    }
   ],
   "source": [
    "sample_list = ['Adipurush', 'sneha', 15, 5.23, \"Tina\", True, 69, 67.89, False, \"Jayesh\"]\n",
    "\n",
    "for i in sample_list:\n",
    "\n",
    "     print(i , type(i))"
   ]
  },
  {
   "cell_type": "markdown",
   "id": "74fb8e9d",
   "metadata": {},
   "source": [
    "## Q5. Using a while loop, verify if the number A is purely divisible by number B and if so then how many times it can be divisible."
   ]
  },
  {
   "cell_type": "code",
   "execution_count": 39,
   "id": "2deb491b",
   "metadata": {},
   "outputs": [
    {
     "name": "stdout",
     "output_type": "stream",
     "text": [
      "30\n",
      "5\n",
      "2\n"
     ]
    }
   ],
   "source": [
    "A =int(input())\n",
    "B =int(input())\n",
    "C=0\n",
    "\n",
    "if A%B == 0:\n",
    "    while(A >= B):\n",
    "        D = A//B\n",
    "        A = D \n",
    "        C += 1\n",
    "    print(C)\n",
    "else:\n",
    "    print(\"not divisible\")\n",
    "        "
   ]
  },
  {
   "cell_type": "markdown",
   "id": "d1025ba3",
   "metadata": {},
   "source": [
    "## Q6. Create a list containing 25 int type data. Using for loop and if-else condition print if the element is divisible by 3 or not."
   ]
  },
  {
   "cell_type": "code",
   "execution_count": 50,
   "id": "969f00a8",
   "metadata": {},
   "outputs": [
    {
     "name": "stdout",
     "output_type": "stream",
     "text": [
      "[12, 36, 63, 45, 27, 75, 63, 33, 78, 9]\n",
      "[10, 25, 58, 43, 97, 85, 56, 11, 89, 88, 22, 59, 77, 82, 47]\n"
     ]
    }
   ],
   "source": [
    "list1 = [10, 12, 25, 36, 58, 63, 45, 27, 43, 97, 85, 56, 11, 89, 88, 75, 63, 22, 59, 33, 78, 77, 82, 47, 9]\n",
    "list2 = []\n",
    "list3 = []\n",
    "\n",
    "for i in list1:\n",
    "    if i %3 == 0:\n",
    "        list2.append(i)\n",
    "    else :\n",
    "        list3.append(i)\n",
    "        \n",
    "print(list2)\n",
    "print(list3)"
   ]
  },
  {
   "cell_type": "markdown",
   "id": "1487f6dc",
   "metadata": {},
   "source": [
    "## Q7. What do you understand about mutable and immutable data types? Give examples for both showing this property."
   ]
  },
  {
   "cell_type": "code",
   "execution_count": 52,
   "id": "ec657b26",
   "metadata": {},
   "outputs": [
    {
     "ename": "AttributeError",
     "evalue": "'tuple' object has no attribute 'append'",
     "output_type": "error",
     "traceback": [
      "\u001b[1;31m---------------------------------------------------------------------------\u001b[0m",
      "\u001b[1;31mAttributeError\u001b[0m                            Traceback (most recent call last)",
      "\u001b[1;32m~\\AppData\\Local\\Temp/ipykernel_20856/2464216962.py\u001b[0m in \u001b[0;36m<module>\u001b[1;34m\u001b[0m\n\u001b[0;32m      5\u001b[0m \u001b[1;33m\u001b[0m\u001b[0m\n\u001b[0;32m      6\u001b[0m \u001b[0mmutable\u001b[0m\u001b[1;33m.\u001b[0m\u001b[0mappend\u001b[0m\u001b[1;33m(\u001b[0m\u001b[1;34m\"omkar\"\u001b[0m\u001b[1;33m)\u001b[0m\u001b[1;33m\u001b[0m\u001b[1;33m\u001b[0m\u001b[0m\n\u001b[1;32m----> 7\u001b[1;33m \u001b[0mimmutable\u001b[0m\u001b[1;33m.\u001b[0m\u001b[0mappend\u001b[0m\u001b[1;33m(\u001b[0m\u001b[1;36m25\u001b[0m\u001b[1;33m)\u001b[0m\u001b[1;33m\u001b[0m\u001b[1;33m\u001b[0m\u001b[0m\n\u001b[0m",
      "\u001b[1;31mAttributeError\u001b[0m: 'tuple' object has no attribute 'append'"
     ]
    }
   ],
   "source": [
    "# Mutable is List and Immutable is tuple\n",
    "immutable = (\"abhi\", 45, 5.33, True)\n",
    "mutable = [\"ayush\", 89, 6.33, False]\n",
    "\n",
    "\n",
    "mutable.append(\"omkar\")\n",
    "immutable.append(25)"
   ]
  },
  {
   "cell_type": "code",
   "execution_count": null,
   "id": "25112326",
   "metadata": {},
   "outputs": [],
   "source": []
  }
 ],
 "metadata": {
  "kernelspec": {
   "display_name": "Python 3 (ipykernel)",
   "language": "python",
   "name": "python3"
  },
  "language_info": {
   "codemirror_mode": {
    "name": "ipython",
    "version": 3
   },
   "file_extension": ".py",
   "mimetype": "text/x-python",
   "name": "python",
   "nbconvert_exporter": "python",
   "pygments_lexer": "ipython3",
   "version": "3.9.7"
  }
 },
 "nbformat": 4,
 "nbformat_minor": 5
}
